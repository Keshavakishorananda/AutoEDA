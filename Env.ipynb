{
 "cells": [
  {
   "cell_type": "code",
   "execution_count": null,
   "metadata": {},
   "outputs": [],
   "source": [
    "import numpy as np\n",
    "\n",
    "from Environment import Environment\n",
    "\n",
    "dataset_path = 'Datasets/Cyber_security/1.tsv'\n",
    "\n",
    "env = Environment(dataset_path=dataset_path)\n",
    "\n",
    "env.reset()\n",
    "\n",
    "print('Before step:')\n",
    "print(env.step_num)\n",
    "print(env.state_stack)\n",
    "print(env.state_history)\n",
    "print(env.action_history)\n",
    "print(env.obs_history)\n",
    "print(env.display_history)\n",
    "\n",
    "action = np.array([2, 3, 0, 0, 8, 0])\n",
    "\n",
    "env.step(action)\n",
    "\n",
    "print('After step:')\n",
    "print(env.step_num)\n",
    "print(env.state_stack)\n",
    "print(env.state_history)\n",
    "print(env.action_history)\n",
    "print(env.obs_history)\n",
    "print(env.display_history)\n",
    "\n",
    "action = np.array([0, 0, 0, 0, 0, 0])\n",
    "\n",
    "env.step(action)\n",
    "\n",
    "print('After step:')\n",
    "print(env.step_num)\n",
    "print(env.state_stack)\n",
    "print(env.state_history)\n",
    "print(env.action_history)\n",
    "print(env.obs_history)\n",
    "print(env.display_history)\n",
    "\n",
    "action = np.array([1, 3, 8, 12, 0, 0])\n",
    "\n",
    "env.step(action)\n",
    "\n",
    "print('After step:')\n",
    "print(env.step_num)\n",
    "print(env.state_stack)\n",
    "print(env.state_history)\n",
    "print(env.action_history)\n",
    "print(env.obs_history)\n",
    "print(env.display_history)"
   ]
  },
  {
   "cell_type": "code",
   "execution_count": 3,
   "metadata": {},
   "outputs": [
    {
     "name": "stdout",
     "output_type": "stream",
     "text": [
      "[newtuple(Filt=[], Group=[], Aggr=[])]\n",
      "[newtuple(Filt=[], Group=[], Aggr=[]), newtuple(Filt=[], Group=[(0, 0)], Aggr=[(0, 0)])]\n"
     ]
    }
   ],
   "source": [
    "from collections import namedtuple\n",
    "\n",
    "newtuple = namedtuple('newtuple', ['Filt', 'Group', 'Aggr'])\n",
    "\n",
    "# Initialize the first instance\n",
    "newstate = newtuple([], [], [])\n",
    "\n",
    "# Create a list with the initial state\n",
    "mylist = [newstate]\n",
    "\n",
    "print(mylist)\n",
    "\n",
    "# Create a new instance with the updated Aggr\n",
    "newnewtuple = newtuple(newstate.Filt, newstate.Group + [(0, 0)], newstate.Aggr + [(0, 0)])\n",
    "# goodtuple = newtuple(newnewtuple.Filt, newnewtuple.Group.append((0, 0)), newnewtuple.Aggr)\n",
    "\n",
    "# Append the new instance to the list\n",
    "mylist.append(newnewtuple)\n",
    "\n",
    "mylist.append(newstate)\n",
    "\n",
    "mylist.pop()\n",
    "\n",
    "print(mylist)"
   ]
  }
 ],
 "metadata": {
  "kernelspec": {
   "display_name": "Python 3",
   "language": "python",
   "name": "python3"
  },
  "language_info": {
   "codemirror_mode": {
    "name": "ipython",
    "version": 3
   },
   "file_extension": ".py",
   "mimetype": "text/x-python",
   "name": "python",
   "nbconvert_exporter": "python",
   "pygments_lexer": "ipython3",
   "version": "3.10.12"
  }
 },
 "nbformat": 4,
 "nbformat_minor": 2
}
